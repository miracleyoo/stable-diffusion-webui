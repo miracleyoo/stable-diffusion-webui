{
 "cells": [
  {
   "cell_type": "code",
   "execution_count": 1,
   "metadata": {},
   "outputs": [],
   "source": [
    "import numpy as np\n",
    "from scipy.interpolate import interp1d\n",
    "\n",
    "def resize_to_target_length(data: np.ndarray, target_len: int = 2000) -> np.ndarray:\n",
    "    \"\"\"\n",
    "    Resize a [N, 6] array to [target_len, 6] by interpolation or downsampling.\n",
    "\n",
    "    Args:\n",
    "        data: numpy array of shape [N, 6]\n",
    "        target_len: desired number of rows (default: 2000)\n",
    "\n",
    "    Returns:\n",
    "        numpy array of shape [target_len, 6]\n",
    "    \"\"\"\n",
    "    N, D = data.shape\n",
    "    assert D == 6, \"Input must be of shape [N, 6]\"\n",
    "    orig_x = np.linspace(0, 1, N)\n",
    "    target_x = np.linspace(0, 1, target_len)\n",
    "\n",
    "    result = []\n",
    "    for d in range(D):\n",
    "        col = data[:, d]\n",
    "        if N < target_len:\n",
    "            interp_func = interp1d(orig_x, col, kind='linear')\n",
    "            resized_col = interp_func(target_x)\n",
    "        else:\n",
    "            indices = np.linspace(0, N - 1, target_len).astype(int)\n",
    "            resized_col = col[indices]\n",
    "        result.append(resized_col)\n",
    "\n",
    "    return np.stack(result, axis=1)  # shape: [target_len, 6]\n"
   ]
  },
  {
   "cell_type": "code",
   "execution_count": 15,
   "metadata": {},
   "outputs": [
    {
     "name": "stdout",
     "output_type": "stream",
     "text": [
      "[-10   8]\n"
     ]
    }
   ],
   "source": [
    "data = np.array([[3,4,8,20], [1,2,8,10], [3,-1, 0, 100], [10, 10, 10, 10], [-10, -7, -2, 8], [1, 20, 3, -3]]).T\n",
    "res = resize_to_target_length(data, 2)\n",
    "print(res[:,-2])"
   ]
  },
  {
   "cell_type": "code",
   "execution_count": 10,
   "metadata": {},
   "outputs": [
    {
     "data": {
      "text/plain": [
       "(10, 6)"
      ]
     },
     "execution_count": 10,
     "metadata": {},
     "output_type": "execute_result"
    }
   ],
   "source": [
    "res.shape"
   ]
  },
  {
   "cell_type": "code",
   "execution_count": null,
   "metadata": {},
   "outputs": [],
   "source": []
  }
 ],
 "metadata": {
  "kernelspec": {
   "display_name": "venv",
   "language": "python",
   "name": "python3"
  },
  "language_info": {
   "codemirror_mode": {
    "name": "ipython",
    "version": 3
   },
   "file_extension": ".py",
   "mimetype": "text/x-python",
   "name": "python",
   "nbconvert_exporter": "python",
   "pygments_lexer": "ipython3",
   "version": "3.11.9"
  }
 },
 "nbformat": 4,
 "nbformat_minor": 2
}
